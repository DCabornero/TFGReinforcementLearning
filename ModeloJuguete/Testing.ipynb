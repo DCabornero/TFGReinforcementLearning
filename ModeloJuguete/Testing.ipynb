{
 "cells": [
  {
   "cell_type": "code",
   "execution_count": 1,
   "metadata": {},
   "outputs": [],
   "source": [
    "from Datos import Datos\n",
    "from Arm import ArmkNN\n",
    "import numpy as np\n",
    "\n",
    "from sklearn.model_selection import train_test_split\n",
    "\n",
    "dataset = Datos(\"ratings.csv\")\n",
    "\n",
    "kNNcols = ['userId','movieId','rating']\n",
    "kNNdataset = dataset.extraeCols(kNNcols)\n",
    "\n",
    "\n",
    "listUsers = np.unique(kNNdataset[:,0])\n",
    "knn = ArmkNN(20)"
   ]
  },
  {
   "cell_type": "code",
   "execution_count": 2,
   "metadata": {},
   "outputs": [
    {
     "data": {
      "text/plain": [
       "3275.0"
      ]
     },
     "execution_count": 2,
     "metadata": {},
     "output_type": "execute_result"
    }
   ],
   "source": [
    "knn.rec_item(kNNdataset,1)"
   ]
  },
  {
   "cell_type": "code",
   "execution_count": 9,
   "metadata": {},
   "outputs": [
    {
     "name": "stdout",
     "output_type": "stream",
     "text": [
      "1.0\n",
      "1.0\n",
      "1.0\n",
      "1.0\n",
      "1.0\n",
      "1.0\n",
      "1.0\n",
      "1.0\n",
      "1.0\n",
      "1.0\n",
      "1.0\n",
      "0.9166666666666666\n",
      "0.9230769230769231\n",
      "0.9285714285714286\n",
      "0.9333333333333333\n",
      "0.9375\n",
      "0.9411764705882353\n",
      "0.9444444444444444\n",
      "0.9473684210526315\n",
      "0.95\n",
      "0.9523809523809523\n",
      "0.9545454545454546\n",
      "0.9565217391304348\n",
      "0.9583333333333334\n",
      "0.96\n",
      "0.9615384615384616\n",
      "0.9629629629629629\n",
      "0.9642857142857143\n"
     ]
    },
    {
     "ename": "KeyboardInterrupt",
     "evalue": "",
     "output_type": "error",
     "traceback": [
      "\u001b[1;31m---------------------------------------------------------------------------\u001b[0m",
      "\u001b[1;31mKeyboardInterrupt\u001b[0m                         Traceback (most recent call last)",
      "\u001b[1;32m<ipython-input-9-05186b9b3465>\u001b[0m in \u001b[0;36m<module>\u001b[1;34m\u001b[0m\n\u001b[0;32m      6\u001b[0m \u001b[1;33m\u001b[0m\u001b[0m\n\u001b[0;32m      7\u001b[0m \u001b[1;32mfor\u001b[0m \u001b[0mu\u001b[0m \u001b[1;32min\u001b[0m \u001b[0mlistUsers\u001b[0m\u001b[1;33m:\u001b[0m\u001b[1;33m\u001b[0m\u001b[1;33m\u001b[0m\u001b[0m\n\u001b[1;32m----> 8\u001b[1;33m     \u001b[0mitem\u001b[0m \u001b[1;33m=\u001b[0m \u001b[0mknn\u001b[0m\u001b[1;33m.\u001b[0m\u001b[0mrec_item\u001b[0m\u001b[1;33m(\u001b[0m\u001b[0mtrain\u001b[0m\u001b[1;33m,\u001b[0m \u001b[0mu\u001b[0m\u001b[1;33m)\u001b[0m\u001b[1;33m\u001b[0m\u001b[1;33m\u001b[0m\u001b[0m\n\u001b[0m\u001b[0;32m      9\u001b[0m     \u001b[1;31m# Ejemplo encontrado para la recomendación\u001b[0m\u001b[1;33m\u001b[0m\u001b[1;33m\u001b[0m\u001b[1;33m\u001b[0m\u001b[0m\n\u001b[0;32m     10\u001b[0m     \u001b[0mmask1\u001b[0m \u001b[1;33m=\u001b[0m \u001b[0mtest\u001b[0m\u001b[1;33m[\u001b[0m\u001b[1;33m:\u001b[0m\u001b[1;33m,\u001b[0m\u001b[1;36m0\u001b[0m\u001b[1;33m]\u001b[0m \u001b[1;33m==\u001b[0m \u001b[0mu\u001b[0m\u001b[1;33m\u001b[0m\u001b[1;33m\u001b[0m\u001b[0m\n",
      "\u001b[1;32m~\\Desktop\\Universidad\\TFGI\\TFGReinforcementLearning\\ModeloJuguete\\Arm.py\u001b[0m in \u001b[0;36mrec_item\u001b[1;34m(self, trainSet, user)\u001b[0m\n\u001b[0;32m    124\u001b[0m         \u001b[0mrating\u001b[0m \u001b[1;33m=\u001b[0m \u001b[1;36m0\u001b[0m\u001b[1;33m\u001b[0m\u001b[1;33m\u001b[0m\u001b[0m\n\u001b[0;32m    125\u001b[0m         \u001b[1;32mfor\u001b[0m \u001b[0mi\u001b[0m \u001b[1;32min\u001b[0m \u001b[0mlistItems\u001b[0m\u001b[1;33m:\u001b[0m\u001b[1;33m\u001b[0m\u001b[1;33m\u001b[0m\u001b[0m\n\u001b[1;32m--> 126\u001b[1;33m             \u001b[0mnewRating\u001b[0m \u001b[1;33m=\u001b[0m \u001b[0mself\u001b[0m\u001b[1;33m.\u001b[0m\u001b[0mrate\u001b[0m\u001b[1;33m(\u001b[0m\u001b[0muser\u001b[0m\u001b[1;33m,\u001b[0m\u001b[0mavgUser\u001b[0m\u001b[1;33m,\u001b[0m\u001b[0mi\u001b[0m\u001b[1;33m,\u001b[0m\u001b[0mtrainSet\u001b[0m\u001b[1;33m,\u001b[0m\u001b[0musersInfo\u001b[0m\u001b[1;33m)\u001b[0m\u001b[1;33m\u001b[0m\u001b[1;33m\u001b[0m\u001b[0m\n\u001b[0m\u001b[0;32m    127\u001b[0m             \u001b[1;32mif\u001b[0m \u001b[0mnewRating\u001b[0m \u001b[1;33m>\u001b[0m \u001b[0mrating\u001b[0m\u001b[1;33m:\u001b[0m\u001b[1;33m\u001b[0m\u001b[1;33m\u001b[0m\u001b[0m\n\u001b[0;32m    128\u001b[0m                 \u001b[0mitem\u001b[0m \u001b[1;33m=\u001b[0m \u001b[0mi\u001b[0m\u001b[1;33m\u001b[0m\u001b[1;33m\u001b[0m\u001b[0m\n",
      "\u001b[1;32m~\\Desktop\\Universidad\\TFGI\\TFGReinforcementLearning\\ModeloJuguete\\Arm.py\u001b[0m in \u001b[0;36mrate\u001b[1;34m(self, user, avguser, item, trainSet, usersInfo)\u001b[0m\n\u001b[0;32m     77\u001b[0m     \u001b[1;32mdef\u001b[0m \u001b[0mrate\u001b[0m\u001b[1;33m(\u001b[0m\u001b[0mself\u001b[0m\u001b[1;33m,\u001b[0m \u001b[0muser\u001b[0m\u001b[1;33m,\u001b[0m \u001b[0mavguser\u001b[0m\u001b[1;33m,\u001b[0m \u001b[0mitem\u001b[0m\u001b[1;33m,\u001b[0m \u001b[0mtrainSet\u001b[0m\u001b[1;33m,\u001b[0m \u001b[0musersInfo\u001b[0m\u001b[1;33m)\u001b[0m\u001b[1;33m:\u001b[0m\u001b[1;33m\u001b[0m\u001b[1;33m\u001b[0m\u001b[0m\n\u001b[0;32m     78\u001b[0m         \u001b[1;31m# Calculamos el conjunto de usuarios distintos del target que han visto el item\u001b[0m\u001b[1;33m\u001b[0m\u001b[1;33m\u001b[0m\u001b[1;33m\u001b[0m\u001b[0m\n\u001b[1;32m---> 79\u001b[1;33m         \u001b[0musers\u001b[0m \u001b[1;33m=\u001b[0m \u001b[0mself\u001b[0m\u001b[1;33m.\u001b[0m\u001b[0mget_users\u001b[0m\u001b[1;33m(\u001b[0m\u001b[0mtrainSet\u001b[0m\u001b[1;33m,\u001b[0m\u001b[0mitem\u001b[0m\u001b[1;33m)\u001b[0m\u001b[1;33m\u001b[0m\u001b[1;33m\u001b[0m\u001b[0m\n\u001b[0m\u001b[0;32m     80\u001b[0m         \u001b[0musers\u001b[0m \u001b[1;33m=\u001b[0m \u001b[0mself\u001b[0m\u001b[1;33m.\u001b[0m\u001b[0mremove_user\u001b[0m\u001b[1;33m(\u001b[0m\u001b[0musers\u001b[0m\u001b[1;33m,\u001b[0m\u001b[0muser\u001b[0m\u001b[1;33m)\u001b[0m\u001b[1;33m\u001b[0m\u001b[1;33m\u001b[0m\u001b[0m\n\u001b[0;32m     81\u001b[0m \u001b[1;33m\u001b[0m\u001b[0m\n",
      "\u001b[1;32m~\\Desktop\\Universidad\\TFGI\\TFGReinforcementLearning\\ModeloJuguete\\Arm.py\u001b[0m in \u001b[0;36mget_users\u001b[1;34m(self, trainSet, item)\u001b[0m\n\u001b[0;32m     65\u001b[0m     \u001b[1;32mdef\u001b[0m \u001b[0mget_users\u001b[0m\u001b[1;33m(\u001b[0m\u001b[0mself\u001b[0m\u001b[1;33m,\u001b[0m \u001b[0mtrainSet\u001b[0m\u001b[1;33m,\u001b[0m \u001b[0mitem\u001b[0m\u001b[1;33m)\u001b[0m\u001b[1;33m:\u001b[0m\u001b[1;33m\u001b[0m\u001b[1;33m\u001b[0m\u001b[0m\n\u001b[0;32m     66\u001b[0m         \u001b[0mmask\u001b[0m \u001b[1;33m=\u001b[0m \u001b[0mtrainSet\u001b[0m\u001b[1;33m[\u001b[0m\u001b[1;33m:\u001b[0m\u001b[1;33m,\u001b[0m\u001b[1;36m1\u001b[0m\u001b[1;33m]\u001b[0m \u001b[1;33m==\u001b[0m \u001b[0mitem\u001b[0m\u001b[1;33m\u001b[0m\u001b[1;33m\u001b[0m\u001b[0m\n\u001b[1;32m---> 67\u001b[1;33m         \u001b[1;32mreturn\u001b[0m \u001b[0mtrainSet\u001b[0m\u001b[1;33m[\u001b[0m\u001b[0mmask\u001b[0m\u001b[1;33m,\u001b[0m\u001b[1;33m:\u001b[0m\u001b[1;33m]\u001b[0m\u001b[1;33m\u001b[0m\u001b[1;33m\u001b[0m\u001b[0m\n\u001b[0m\u001b[0;32m     68\u001b[0m \u001b[1;33m\u001b[0m\u001b[0m\n\u001b[0;32m     69\u001b[0m     \u001b[1;31m# Elimina los resultados relativos a un cierto usuario\u001b[0m\u001b[1;33m\u001b[0m\u001b[1;33m\u001b[0m\u001b[1;33m\u001b[0m\u001b[0m\n",
      "\u001b[1;31mKeyboardInterrupt\u001b[0m: "
     ]
    }
   ],
   "source": [
    "# Prueba de kNN\n",
    "train, test = train_test_split(kNNdataset, train_size=0.1)\n",
    "\n",
    "num = 0\n",
    "den = 0\n",
    "\n",
    "for u in listUsers:\n",
    "    item = knn.rec_item(train, u)\n",
    "    # Ejemplo encontrado para la recomendación\n",
    "    mask1 = test[:,0] == u\n",
    "    mask2 = test[:,1] == item\n",
    "    mask = np.logical_and(mask1,mask2)\n",
    "    test, hit = test[np.logical_not(mask)], test[mask]\n",
    "    if(len(hit) != 0):\n",
    "        train = np.vstack((train,hit))\n",
    "        den += 1\n",
    "        if(hit[0,2] >= 3):\n",
    "            num += 1\n",
    "        print(num/den)\n",
    "    else:\n",
    "        train = np.vstack((train,[u,item,1.]))"
   ]
  },
  {
   "cell_type": "markdown",
   "metadata": {},
   "source": [
    "Pruebas de NB"
   ]
  },
  {
   "cell_type": "code",
   "execution_count": 10,
   "metadata": {},
   "outputs": [
    {
     "name": "stdout",
     "output_type": "stream",
     "text": [
      "          0.5  1.0  1.5  2.0   2.5   3.0   3.5   4.0   4.5   5.0\n",
      "1.0       1.0  0.0  1.0  6.0   8.0  34.0  18.0  82.0  18.0  47.0\n",
      "2.0       1.0  1.0  2.0  5.0  12.0  28.0  11.0  36.0   7.0   7.0\n",
      "3.0       1.0  3.0  1.0  2.0   2.0  20.0   5.0  12.0   0.0   6.0\n",
      "4.0       0.0  1.0  1.0  1.0   0.0   4.0   0.0   0.0   0.0   0.0\n",
      "5.0       1.0  0.0  2.0  6.0   2.0  25.0   1.0   8.0   1.0   3.0\n",
      "...       ...  ...  ...  ...   ...   ...   ...   ...   ...   ...\n",
      "193581.0  0.0  0.0  0.0  0.0   0.0   0.0   0.0   1.0   0.0   0.0\n",
      "193583.0  0.0  0.0  0.0  0.0   0.0   0.0   1.0   0.0   0.0   0.0\n",
      "193585.0  0.0  0.0  0.0  0.0   0.0   0.0   1.0   0.0   0.0   0.0\n",
      "193587.0  0.0  0.0  0.0  0.0   0.0   0.0   1.0   0.0   0.0   0.0\n",
      "193609.0  0.0  0.0  0.0  0.0   0.0   0.0   0.0   1.0   0.0   0.0\n",
      "\n",
      "[9724 rows x 10 columns]\n"
     ]
    }
   ],
   "source": [
    "from Datos import Datos\n",
    "from Arm import ArmNB\n",
    "import numpy as np\n",
    "\n",
    "from sklearn.model_selection import train_test_split\n",
    "\n",
    "dataset = Datos(\"ratings.csv\")\n",
    "\n",
    "kNNcols = ['userId','movieId','rating']\n",
    "kNNdataset = dataset.extraeCols(kNNcols)\n",
    "\n",
    "arm = ArmNB(kNNdataset)\n",
    "arm.fit_priores()\n",
    "print(arm.priores)"
   ]
  },
  {
   "cell_type": "code",
   "execution_count": null,
   "metadata": {},
   "outputs": [],
   "source": []
  }
 ],
 "metadata": {
  "kernelspec": {
   "display_name": "Python 3",
   "language": "python",
   "name": "python3"
  },
  "language_info": {
   "codemirror_mode": {
    "name": "ipython",
    "version": 3
   },
   "file_extension": ".py",
   "mimetype": "text/x-python",
   "name": "python",
   "nbconvert_exporter": "python",
   "pygments_lexer": "ipython3",
   "version": "3.8.3"
  }
 },
 "nbformat": 4,
 "nbformat_minor": 4
}
