{
 "cells": [
  {
   "cell_type": "code",
   "execution_count": 5,
   "metadata": {},
   "outputs": [],
   "source": [
    "from Datos import Datos\n",
    "from Arm import ArmkNN\n",
    "import numpy as np\n",
    "\n",
    "from sklearn.model_selection import train_test_split\n",
    "\n",
    "dataset = Datos(\"ratings.csv\")\n",
    "\n",
    "kNNcols = ['userId','movieId','rating']\n",
    "kNNdataset = dataset.extraeCols(kNNcols)\n",
    "\n",
    "\n",
    "knn = ArmkNN(20)\n"
   ]
  },
  {
   "cell_type": "code",
   "execution_count": 6,
   "metadata": {},
   "outputs": [
    {
     "name": "stderr",
     "output_type": "stream",
     "text": [
      "C:\\Users\\David\\Desktop\\Universidad\\TFGI\\TFGReinforcementLearning\\ModeloJuguete\\Arm.py:141: RuntimeWarning: invalid value encountered in double_scalars\n",
      "  res = usersInfo.at[user,'avg'] + numer/den\n"
     ]
    },
    {
     "name": "stdout",
     "output_type": "stream",
     "text": [
      "Tasa de acierto:  0.9342723004694836\n",
      "Tasa de hit:  0.3555926544240401\n",
      "Tiempo:  189.3595012\n"
     ]
    }
   ],
   "source": [
    "# Prueba de kNN\n",
    "import time\n",
    "\n",
    "t0 = time.perf_counter()\n",
    "\n",
    "train, test = train_test_split(kNNdataset, train_size=0.1)\n",
    "knn.initSet(train)\n",
    "listUsers = np.unique(train[:,0])\n",
    "\n",
    "num = 0\n",
    "den = 0\n",
    "\n",
    "misses = 0\n",
    "\n",
    "for u in listUsers:\n",
    "    item = knn.rec_item(u)\n",
    "    # Ejemplo encontrado para la recomendación\n",
    "    mask1 = test[:,0] == u\n",
    "    mask2 = test[:,1] == item\n",
    "    mask = np.logical_and(mask1,mask2)\n",
    "    test, hit = test[np.logical_not(mask)], test[mask]\n",
    "    if(len(hit) != 0):\n",
    "        knn.add_sample(hit[0])\n",
    "        den += 1\n",
    "        if(hit[0,2] >= 3):\n",
    "            num += 1\n",
    "    else:\n",
    "        knn.add_bad_sample(u,item)\n",
    "        misses += 1\n",
    "print('Tasa de acierto: ',num/den)\n",
    "print('Tasa de hit: ',den/(den+misses))\n",
    "print('Tiempo: ', time.perf_counter() - t0)"
   ]
  },
  {
   "cell_type": "markdown",
   "metadata": {},
   "source": [
    "Pruebas de NB"
   ]
  },
  {
   "cell_type": "code",
   "execution_count": 11,
   "metadata": {},
   "outputs": [],
   "source": [
    "from Datos import Datos\n",
    "from Arm import ArmNB\n",
    "import numpy as np\n",
    "\n",
    "from sklearn.model_selection import train_test_split\n",
    "\n",
    "\n",
    "dataset = Datos(\"ratings.csv\")\n",
    "\n",
    "kNNcols = ['userId','movieId','rating']\n",
    "kNNdataset = dataset.extraeCols(kNNcols)\n",
    "\n",
    "arm = ArmNB()"
   ]
  },
  {
   "cell_type": "code",
   "execution_count": 11,
   "metadata": {},
   "outputs": [
    {
     "name": "stdout",
     "output_type": "stream",
     "text": [
      "Tasa de acierto:  0.9772727272727273\n",
      "Tasa de hit:  0.07308970099667775\n",
      "Tiempo:  7.432498399999986\n"
     ]
    }
   ],
   "source": [
    "import time\n",
    "import random\n",
    "# Prueba de NB\n",
    "train, test = train_test_split(kNNdataset, train_size=0.1)\n",
    "arm.initSet(train)\n",
    "listUsers = np.unique(train[:,0])\n",
    "random.shuffle(listUsers)\n",
    "\n",
    "num = 0\n",
    "den = 0\n",
    "\n",
    "misses = 0\n",
    "t0 = time.perf_counter()\n",
    "\n",
    "for u in listUsers:\n",
    "    item = arm.rec_item(u)\n",
    "    # Ejemplo encontrado para la recomendación\n",
    "    mask1 = test[:,0] == u\n",
    "    mask2 = test[:,1] == item\n",
    "    mask = np.logical_and(mask1,mask2)\n",
    "    test, hit = test[np.logical_not(mask)], test[mask]\n",
    "    if(len(hit) != 0):\n",
    "        train = np.vstack((train,hit))\n",
    "        den += 1\n",
    "        if(hit[0,2] >= 3):\n",
    "            num += 1\n",
    "    else:\n",
    "        train = np.vstack((train,[u,item,1.]))\n",
    "        misses += 1\n",
    "print('Tasa de acierto: ',num/den)\n",
    "print('Tasa de hit: ',den/(den+misses))\n",
    "print('Tiempo: ', time.perf_counter() - t0)"
   ]
  },
  {
   "cell_type": "markdown",
   "metadata": {},
   "source": [
    "Probando cosas más chungas"
   ]
  },
  {
   "cell_type": "code",
   "execution_count": 6,
   "metadata": {
    "scrolled": false
   },
   "outputs": [],
   "source": [
    "from Datos import Datos\n",
    "from Arm import ArmItemNB\n",
    "import numpy as np\n",
    "\n",
    "from sklearn.model_selection import train_test_split\n",
    "\n",
    "dataset = Datos(\"ratings.csv\")\n",
    "\n",
    "kNNcols = ['userId','movieId','rating']\n",
    "kNNdataset = dataset.extraeCols(kNNcols)\n",
    "\n",
    "datasetM = Datos(\"movies.csv\",nominal=False)\n",
    "\n",
    "cols = ['movieId','genres']\n",
    "npdatasetM = datasetM.extraeCols(cols)\n",
    "\n",
    "arm = ArmItemNB(npdatasetM)"
   ]
  },
  {
   "cell_type": "code",
   "execution_count": 7,
   "metadata": {},
   "outputs": [
    {
     "name": "stdout",
     "output_type": "stream",
     "text": [
      "Tasa de acierto:  0.8888888888888888\n",
      "Tasa de hit:  0.09\n",
      "Tiempo:  6.2514720999997735\n"
     ]
    }
   ],
   "source": [
    "import random,time\n",
    "# Prueba de NB con items\n",
    "train, test = train_test_split(kNNdataset, train_size=0.1)\n",
    "arm.initSet(train)\n",
    "listUsers = np.unique(train[:,0])\n",
    "random.shuffle(listUsers)\n",
    "\n",
    "t0 = time.perf_counter()\n",
    "\n",
    "num = 0\n",
    "den = 0\n",
    "misses = 0\n",
    "\n",
    "for u in listUsers:\n",
    "    item = arm.rec_item(u)\n",
    "    # Ejemplo encontrado para la recomendación\n",
    "    mask1 = test[:,0] == u\n",
    "    mask2 = test[:,1] == item\n",
    "    mask = np.logical_and(mask1,mask2)\n",
    "    test, hit = test[np.logical_not(mask)], test[mask]\n",
    "    if(len(hit) != 0):\n",
    "        den += 1\n",
    "        if(hit[0,2] >= 3):\n",
    "            rt = 1\n",
    "            num += 1\n",
    "        else:\n",
    "            rt = -1\n",
    "        arm.add_sample(hit[0])\n",
    "    else:\n",
    "        arm.add_sample([u,item,-1])\n",
    "        misses += 1\n",
    "print('Tasa de acierto: ',num/den)\n",
    "print('Tasa de misses: ',misses/(den+misses))\n",
    "print('Tiempo: ', time.perf_counter() - t0)"
   ]
  },
  {
   "cell_type": "markdown",
   "metadata": {},
   "source": [
    "Probando el modelo final"
   ]
  },
  {
   "cell_type": "code",
   "execution_count": 3,
   "metadata": {},
   "outputs": [
    {
     "name": "stdout",
     "output_type": "stream",
     "text": [
      "Tasa de aciertos:  0.9649122807017544\n",
      "228\n",
      "Tasa de misses:  0.6363636363636364 \n",
      "\n",
      "Tasa de aciertos:  0.9375\n",
      "16\n",
      "Tasa de misses:  0.946843853820598 \n",
      "\n",
      "Tasa de aciertos:  0.8\n",
      "5\n",
      "Tasa de misses:  0.9305555555555556 \n",
      "\n"
     ]
    },
    {
     "data": {
      "image/png": "[encoded data removed]",
      "text/plain": [
       "<Figure size 432x288 with 1 Axes>"
      ]
     },
     "metadata": {
      "needs_background": "light"
     },
     "output_type": "display_data"
    }
   ],
   "source": [
    "from Bandit import epsilonGreedy\n",
    "\n",
    "bandit = epsilonGreedy(\"ratings.csv\",\"movies.csv\",epsilon=0.1)\n",
    "\n",
    "bandit.add_knnArm(20)\n",
    "bandit.add_NB()\n",
    "bandit.add_itemNB()\n",
    "\n",
    "bandit.run_epoch(epochs = 1000)\n",
    "\n",
    "for arm in bandit.arms:\n",
    "    print('Tasa de aciertos: ',arm.accuracy())\n",
    "    print(arm.fails + arm.hits)\n",
    "    print('Tasa de misses: ', arm.misses/(arm.hits+arm.fails+arm.misses), '\\n')"
   ]
  },
  {
   "cell_type": "code",
   "execution_count": 12,
   "metadata": {},
   "outputs": [
    {
     "name": "stdout",
     "output_type": "stream",
     "text": [
      "Tasa de aciertos:  0.9626168224299065\n",
      "107\n",
      "Tasa de misses:  0.6687306501547987 \n",
      "\n",
      "Tasa de aciertos:  0.8775510204081632\n",
      "49\n",
      "Tasa de misses:  0.8439490445859873 \n",
      "\n",
      "Tasa de aciertos:  0.7857142857142857\n",
      "14\n",
      "Tasa de misses:  0.9614325068870524 \n",
      "\n"
     ]
    },
    {
     "data": {
      "image/png": "[encoded data removed]",
      "text/plain": [
       "<Figure size 432x288 with 1 Axes>"
      ]
     },
     "metadata": {
      "needs_background": "light"
     },
     "output_type": "display_data"
    }
   ],
   "source": [
    "from Bandit import randomBandit\n",
    "\n",
    "bandit = randomBandit(\"ratings.csv\",\"movies.csv\")\n",
    "\n",
    "bandit.add_knnArm(20)\n",
    "bandit.add_NB()\n",
    "bandit.add_itemNB()\n",
    "\n",
    "bandit.run_epoch(epochs = 1000)\n",
    "\n",
    "for arm in bandit.arms:\n",
    "    print('Tasa de aciertos: ',arm.accuracy())\n",
    "    print(arm.fails + arm.hits)\n",
    "    print('Tasa de misses: ', arm.misses/(arm.hits+arm.fails+arm.misses), '\\n')"
   ]
  },
  {
   "cell_type": "code",
   "execution_count": 13,
   "metadata": {},
   "outputs": [
    {
     "name": "stdout",
     "output_type": "stream",
     "text": [
      "Tasa de aciertos:  0.9458128078817734\n",
      "203\n",
      "Tasa de misses:  0.6342342342342342 \n",
      "\n",
      "Tasa de aciertos:  0.6666666666666666\n",
      "9\n",
      "Tasa de misses:  0.7567567567567568 \n",
      "\n",
      "Tasa de aciertos:  0.9565217391304348\n",
      "23\n",
      "Tasa de misses:  0.9436274509803921 \n",
      "\n"
     ]
    },
    {
     "data": {
      "image/png": "[encoded data removed]",
      "text/plain": [
       "<Figure size 432x288 with 1 Axes>"
      ]
     },
     "metadata": {
      "needs_background": "light"
     },
     "output_type": "display_data"
    }
   ],
   "source": [
    "from Bandit import thompsonSampling\n",
    "\n",
    "bandit = thompsonSampling(\"ratings.csv\",\"movies.csv\")\n",
    "\n",
    "bandit.add_knnArm(20)\n",
    "bandit.add_NB()\n",
    "bandit.add_itemNB()\n",
    "\n",
    "bandit.run_epoch(epochs = 1000)\n",
    "\n",
    "for arm in bandit.arms:\n",
    "    print('Tasa de aciertos: ',arm.accuracy())\n",
    "    print(arm.fails + arm.hits)\n",
    "    print('Tasa de misses: ', arm.misses/(arm.hits+arm.fails+arm.misses), '\\n')"
   ]
  },
  {
   "cell_type": "code",
   "execution_count": null,
   "metadata": {},
   "outputs": [],
   "source": []
  }
 ],
 "metadata": {
  "kernelspec": {
   "display_name": "Python 3",
   "language": "python",
   "name": "python3"
  },
  "language_info": {
   "codemirror_mode": {
    "name": "ipython",
    "version": 3
   },
   "file_extension": ".py",
   "mimetype": "text/x-python",
   "name": "python",
   "nbconvert_exporter": "python",
   "pygments_lexer": "ipython3",
   "version": "3.8.3"
  }
 },
 "nbformat": 4,
 "nbformat_minor": 4
}
